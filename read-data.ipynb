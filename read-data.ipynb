{
 "cells": [
  {
   "cell_type": "code",
   "execution_count": 17,
   "metadata": {},
   "outputs": [
    {
     "name": "stdout",
     "output_type": "stream",
     "text": [
      "API error: NOTOK\n"
     ]
    }
   ],
   "source": [
    "import requests\n",
    "\n",
    "# Etherscan API URL'sini ve sizin API anahtarınızı belirtin\n",
    "api_url = \"https://api.etherscan.io/api?module=stats&action=tokensupply&contractaddress=0xD533a949740bb3306d119CC777fa900bA034cd52&apikey=\"\n",
    "api_key = \"\"\n",
    "\n",
    "\n",
    "# İstek parametrelerini oluşturun\n",
    "params = {\n",
    "    \"module\": \"token\",\n",
    "    \"action\": \"tokeninfo\",\n",
    "    \"contractaddress\": \"0xD533a949740bb3306d119CC777fa900bA034cd52\",\n",
    "    \"apiurl\": api_url\n",
    "}\n",
    "\n",
    "# API'ye isteği gönderin\n",
    "response = requests.get(api_url, params=params)\n",
    "\n",
    "# İstek sonucunu kontrol edin ve verileri işleyin\n",
    "if response.status_code == 200:\n",
    "    data = response.json()\n",
    "    if data[\"status\"] == \"1\":\n",
    "        token_name = data[\"result\"][\"tokenName\"]\n",
    "        token_symbol = data[\"result\"][\"symbol\"]\n",
    "        decimal = int(data[\"result\"][\"decimals\"])\n",
    "        total_supply = data[\"result\"][\"totalSupply\"]\n",
    "        print(\"Token Name:\", token_name)\n",
    "        print(\"Token Symbol:\", token_symbol)\n",
    "        print(\"Decimal:\", decimal)\n",
    "        print(\"Total Supply:\", total_supply)\n",
    "    else:\n",
    "        print(\"API error:\", data[\"message\"])\n",
    "else:\n",
    "    print(\"HTTP error:\", response.status_code)\n"
   ]
  },
  {
   "cell_type": "code",
   "execution_count": 20,
   "metadata": {},
   "outputs": [
    {
     "name": "stdout",
     "output_type": "stream",
     "text": [
      "Adresin bakiyesi: 1782012725746599 wei\n",
      "Adresin bakiyesi: 0.001782012725746599 ETH\n"
     ]
    }
   ],
   "source": [
    "import requests\n",
    "\n",
    "# Etherscan API isteği için gerekli parametreler\n",
    "base_url = \"https://api.etherscan.io/api\"\n",
    "module = \"account\"\n",
    "action = \"balance\"\n",
    "address = \"0x70cb0dde6a5c258a37cebcde3ca828097fd9f826\"\n",
    "tag = \"latest\"\n",
    "api_key = \"\"\n",
    "\n",
    "# API isteği için URL oluşturma\n",
    "url = f\"{base_url}?module={module}&action={action}&address={address}&tag={tag}&apikey={api_key}\"\n",
    "\n",
    "# GET isteği gönderme ve yanıtın alınması\n",
    "response = requests.get(url)\n",
    "data = response.json()\n",
    "\n",
    "# Yanıtın işlenmesi ve bakiyenin alınması\n",
    "if data[\"status\"] == \"1\":\n",
    "    balance = data[\"result\"]\n",
    "    print(f\"Adresin bakiyesi: {balance} wei\")\n",
    "else:\n",
    "    error_message = data[\"message\"]\n",
    "    print(f\"Hata: {error_message}\")\n",
    "\n",
    "\n",
    "balance_wei = 1782012725746599\n",
    "balance_eth = balance_wei / 10**18  # Wei'yi Ether'e çevirme\n",
    "balance_eth = round(balance_eth, 18)  # 18 basamağa kadar yuvarlama\n",
    "\n",
    "print(f\"Adresin bakiyesi: {balance_eth} ETH\")\n",
    "\n"
   ]
  },
  {
   "cell_type": "code",
   "execution_count": 34,
   "metadata": {},
   "outputs": [
    {
     "name": "stdout",
     "output_type": "stream",
     "text": [
      "Adresin bakiyesi: 4607291111284284 wei\n",
      "Adresin bakiyesi: 0.004607291111284284 ETH\n"
     ]
    }
   ],
   "source": [
    "import requests \n",
    "\n",
    "base_url = \"https://api.arbiscan.io/api\"\n",
    "module = \"account\"\n",
    "action = \"balance\"\n",
    "address = \"0x70cb0dde6a5c258a37cebcde3ca828097fd9f826\"\n",
    "tag = \"latest\"\n",
    "api_key = \"\"\n",
    "\n",
    "\n",
    "url = f\"{base_url}?module={module}&action={action}&address={address}&tag={tag}&apikey={api_key}\"\n",
    "\n",
    "response = requests.get(url)\n",
    "data = response.json()\n",
    "\n",
    "\n",
    "if data[\"status\"] == \"1\":\n",
    "    balance = data[\"result\"]\n",
    "    print(f\"Adresin bakiyesi: {balance} wei\")\n",
    "else:\n",
    "    error_message = data[\"message\"]\n",
    "    print(f\"Hata: {error_message}\")\n",
    "\n",
    "balance_eth = int(balance) / 10**18  \n",
    "balance_eth = round(balance_eth, 18)\n",
    "\n",
    "\n",
    "print(f\"Adresin bakiyesi: {balance_eth} ETH\")\n"
   ]
  },
  {
   "cell_type": "code",
   "execution_count": 44,
   "metadata": {},
   "outputs": [
    {
     "name": "stdout",
     "output_type": "stream",
     "text": [
      "{'status': '1', 'message': 'OK', 'result': '1064822893944520521'}\n",
      "STG TOKEN BAKİYESİ: 1.0648228939445206\n"
     ]
    }
   ],
   "source": [
    "base_url = \"https://api.arbiscan.io/api\"\n",
    "module = \"account\"\n",
    "action = \"tokenbalance\"\n",
    "contractaddress=\"0x6694340fc020c5E6B96567843da2df01b2CE1eb6\"\n",
    "address = \"0x70cb0dde6a5c258a37cebcde3ca828097fd9f826\"\n",
    "tag = \"latest\"\n",
    "api_key = \"\"\n",
    "\n",
    "url = f\"{base_url}?module={module}&action={action}&contractaddress={contractaddress}&address={address}&tag={tag}&apikey={api_key}\"\n",
    "\n",
    "response = requests.get(url)\n",
    "data = response.json()\n",
    "\n",
    "if data[\"status\"] == \"1\":\n",
    "    balance = data[\"result\"]\n",
    "\n",
    "else:\n",
    "    error_message = data[\"message\"]\n",
    "    print(f\"Hata: {error_message}\")\n",
    "\n",
    "print(data)\n",
    "\n",
    "balance_stg = int(balance) / 10**18\n",
    "balance_stg = round(balance_stg, 18)\n",
    "\n",
    "print(f\"STG TOKEN BAKİYESİ: {balance_stg}\")"
   ]
  },
  {
   "cell_type": "code",
   "execution_count": null,
   "metadata": {},
   "outputs": [],
   "source": []
  },
  {
   "cell_type": "code",
   "execution_count": null,
   "metadata": {},
   "outputs": [],
   "source": []
  },
  {
   "cell_type": "code",
   "execution_count": null,
   "metadata": {},
   "outputs": [],
   "source": []
  },
  {
   "cell_type": "code",
   "execution_count": null,
   "metadata": {},
   "outputs": [],
   "source": []
  },
  {
   "cell_type": "code",
   "execution_count": null,
   "metadata": {},
   "outputs": [],
   "source": []
  },
  {
   "cell_type": "code",
   "execution_count": null,
   "metadata": {},
   "outputs": [],
   "source": []
  },
  {
   "cell_type": "code",
   "execution_count": null,
   "metadata": {},
   "outputs": [],
   "source": []
  },
  {
   "cell_type": "code",
   "execution_count": null,
   "metadata": {},
   "outputs": [],
   "source": []
  },
  {
   "cell_type": "code",
   "execution_count": null,
   "metadata": {},
   "outputs": [],
   "source": []
  },
  {
   "cell_type": "code",
   "execution_count": null,
   "metadata": {},
   "outputs": [],
   "source": []
  },
  {
   "cell_type": "code",
   "execution_count": null,
   "metadata": {},
   "outputs": [],
   "source": []
  },
  {
   "cell_type": "code",
   "execution_count": null,
   "metadata": {},
   "outputs": [],
   "source": []
  },
  {
   "cell_type": "code",
   "execution_count": null,
   "metadata": {},
   "outputs": [],
   "source": []
  },
  {
   "cell_type": "code",
   "execution_count": null,
   "metadata": {},
   "outputs": [],
   "source": []
  },
  {
   "cell_type": "code",
   "execution_count": null,
   "metadata": {},
   "outputs": [],
   "source": []
  },
  {
   "cell_type": "code",
   "execution_count": null,
   "metadata": {},
   "outputs": [],
   "source": []
  },
  {
   "cell_type": "code",
   "execution_count": null,
   "metadata": {},
   "outputs": [],
   "source": []
  },
  {
   "cell_type": "code",
   "execution_count": null,
   "metadata": {},
   "outputs": [],
   "source": []
  },
  {
   "cell_type": "code",
   "execution_count": null,
   "metadata": {},
   "outputs": [],
   "source": []
  },
  {
   "cell_type": "code",
   "execution_count": null,
   "metadata": {},
   "outputs": [],
   "source": []
  },
  {
   "cell_type": "code",
   "execution_count": null,
   "metadata": {},
   "outputs": [],
   "source": []
  },
  {
   "cell_type": "code",
   "execution_count": null,
   "metadata": {},
   "outputs": [],
   "source": []
  },
  {
   "cell_type": "code",
   "execution_count": null,
   "metadata": {},
   "outputs": [],
   "source": []
  },
  {
   "cell_type": "code",
   "execution_count": null,
   "metadata": {},
   "outputs": [],
   "source": []
  },
  {
   "cell_type": "code",
   "execution_count": null,
   "metadata": {},
   "outputs": [],
   "source": []
  },
  {
   "cell_type": "code",
   "execution_count": null,
   "metadata": {},
   "outputs": [],
   "source": []
  },
  {
   "cell_type": "code",
   "execution_count": null,
   "metadata": {},
   "outputs": [],
   "source": []
  },
  {
   "cell_type": "code",
   "execution_count": null,
   "metadata": {},
   "outputs": [],
   "source": []
  },
  {
   "cell_type": "code",
   "execution_count": null,
   "metadata": {},
   "outputs": [],
   "source": []
  },
  {
   "cell_type": "code",
   "execution_count": null,
   "metadata": {},
   "outputs": [],
   "source": []
  },
  {
   "cell_type": "code",
   "execution_count": null,
   "metadata": {},
   "outputs": [],
   "source": []
  },
  {
   "cell_type": "code",
   "execution_count": null,
   "metadata": {},
   "outputs": [],
   "source": []
  },
  {
   "cell_type": "code",
   "execution_count": null,
   "metadata": {},
   "outputs": [],
   "source": []
  },
  {
   "cell_type": "code",
   "execution_count": null,
   "metadata": {},
   "outputs": [],
   "source": []
  },
  {
   "cell_type": "code",
   "execution_count": null,
   "metadata": {},
   "outputs": [],
   "source": []
  },
  {
   "cell_type": "code",
   "execution_count": null,
   "metadata": {},
   "outputs": [],
   "source": []
  },
  {
   "cell_type": "code",
   "execution_count": null,
   "metadata": {},
   "outputs": [],
   "source": []
  },
  {
   "cell_type": "code",
   "execution_count": null,
   "metadata": {},
   "outputs": [],
   "source": []
  },
  {
   "cell_type": "code",
   "execution_count": null,
   "metadata": {},
   "outputs": [],
   "source": []
  },
  {
   "cell_type": "code",
   "execution_count": null,
   "metadata": {},
   "outputs": [],
   "source": []
  },
  {
   "cell_type": "code",
   "execution_count": null,
   "metadata": {},
   "outputs": [],
   "source": []
  }
 ],
 "metadata": {
  "kernelspec": {
   "display_name": "Python 3.9.12 ('base')",
   "language": "python",
   "name": "python3"
  },
  "language_info": {
   "codemirror_mode": {
    "name": "ipython",
    "version": 3
   },
   "file_extension": ".py",
   "mimetype": "text/x-python",
   "name": "python",
   "nbconvert_exporter": "python",
   "pygments_lexer": "ipython3",
   "version": "3.9.12"
  },
  "orig_nbformat": 4,
  "vscode": {
   "interpreter": {
    "hash": "40d3a090f54c6569ab1632332b64b2c03c39dcf918b08424e98f38b5ae0af88f"
   }
  }
 },
 "nbformat": 4,
 "nbformat_minor": 2
}
