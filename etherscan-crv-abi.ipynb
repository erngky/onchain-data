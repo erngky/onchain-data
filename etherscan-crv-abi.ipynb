{
 "cells": [
  {
   "cell_type": "code",
   "execution_count": 2,
   "metadata": {},
   "outputs": [
    {
     "ename": "HTTPError",
     "evalue": "401 Client Error: Unauthorized for url: https://mainnet.infura.io/v3/MyInfuraKey",
     "output_type": "error",
     "traceback": [
      "\u001b[0;31m---------------------------------------------------------------------------\u001b[0m",
      "\u001b[0;31mHTTPError\u001b[0m                                 Traceback (most recent call last)",
      "\u001b[1;32m/Users/halil/Documents/onchain-data/etherscan-crv-abi.ipynb Hücre 1\u001b[0m in \u001b[0;36m<cell line: 48>\u001b[0;34m()\u001b[0m\n\u001b[1;32m     <a href='vscode-notebook-cell:/Users/halil/Documents/onchain-data/etherscan-crv-abi.ipynb#W0sZmlsZQ%3D%3D?line=10'>11</a>\u001b[0m contract_abi \u001b[39m=\u001b[39m [\n\u001b[1;32m     <a href='vscode-notebook-cell:/Users/halil/Documents/onchain-data/etherscan-crv-abi.ipynb#W0sZmlsZQ%3D%3D?line=11'>12</a>\u001b[0m     {\u001b[39m\"\u001b[39m\u001b[39mname\u001b[39m\u001b[39m\"\u001b[39m:\u001b[39m\"\u001b[39m\u001b[39mTransfer\u001b[39m\u001b[39m\"\u001b[39m,\u001b[39m\"\u001b[39m\u001b[39minputs\u001b[39m\u001b[39m\"\u001b[39m:[{\u001b[39m\"\u001b[39m\u001b[39mtype\u001b[39m\u001b[39m\"\u001b[39m:\u001b[39m\"\u001b[39m\u001b[39maddress\u001b[39m\u001b[39m\"\u001b[39m,\u001b[39m\"\u001b[39m\u001b[39mname\u001b[39m\u001b[39m\"\u001b[39m:\u001b[39m\"\u001b[39m\u001b[39m_from\u001b[39m\u001b[39m\"\u001b[39m,\u001b[39m\"\u001b[39m\u001b[39mindexed\u001b[39m\u001b[39m\"\u001b[39m:\u001b[39mTrue\u001b[39;00m},{\u001b[39m\"\u001b[39m\u001b[39mtype\u001b[39m\u001b[39m\"\u001b[39m:\u001b[39m\"\u001b[39m\u001b[39maddress\u001b[39m\u001b[39m\"\u001b[39m,\u001b[39m\"\u001b[39m\u001b[39mname\u001b[39m\u001b[39m\"\u001b[39m:\u001b[39m\"\u001b[39m\u001b[39m_to\u001b[39m\u001b[39m\"\u001b[39m,\u001b[39m\"\u001b[39m\u001b[39mindexed\u001b[39m\u001b[39m\"\u001b[39m:\u001b[39mTrue\u001b[39;00m},{\u001b[39m\"\u001b[39m\u001b[39mtype\u001b[39m\u001b[39m\"\u001b[39m:\u001b[39m\"\u001b[39m\u001b[39muint256\u001b[39m\u001b[39m\"\u001b[39m,\u001b[39m\"\u001b[39m\u001b[39mname\u001b[39m\u001b[39m\"\u001b[39m:\u001b[39m\"\u001b[39m\u001b[39m_value\u001b[39m\u001b[39m\"\u001b[39m,\u001b[39m\"\u001b[39m\u001b[39mindexed\u001b[39m\u001b[39m\"\u001b[39m:\u001b[39mFalse\u001b[39;00m}],\u001b[39m\"\u001b[39m\u001b[39manonymous\u001b[39m\u001b[39m\"\u001b[39m:\u001b[39mFalse\u001b[39;00m,\u001b[39m\"\u001b[39m\u001b[39mtype\u001b[39m\u001b[39m\"\u001b[39m:\u001b[39m\"\u001b[39m\u001b[39mevent\u001b[39m\u001b[39m\"\u001b[39m},\n\u001b[1;32m     <a href='vscode-notebook-cell:/Users/halil/Documents/onchain-data/etherscan-crv-abi.ipynb#W0sZmlsZQ%3D%3D?line=12'>13</a>\u001b[0m     {\u001b[39m\"\u001b[39m\u001b[39mname\u001b[39m\u001b[39m\"\u001b[39m:\u001b[39m\"\u001b[39m\u001b[39mApproval\u001b[39m\u001b[39m\"\u001b[39m,\u001b[39m\"\u001b[39m\u001b[39minputs\u001b[39m\u001b[39m\"\u001b[39m:[{\u001b[39m\"\u001b[39m\u001b[39mtype\u001b[39m\u001b[39m\"\u001b[39m:\u001b[39m\"\u001b[39m\u001b[39maddress\u001b[39m\u001b[39m\"\u001b[39m,\u001b[39m\"\u001b[39m\u001b[39mname\u001b[39m\u001b[39m\"\u001b[39m:\u001b[39m\"\u001b[39m\u001b[39m_owner\u001b[39m\u001b[39m\"\u001b[39m,\u001b[39m\"\u001b[39m\u001b[39mindexed\u001b[39m\u001b[39m\"\u001b[39m:\u001b[39mTrue\u001b[39;00m},{\u001b[39m\"\u001b[39m\u001b[39mtype\u001b[39m\u001b[39m\"\u001b[39m:\u001b[39m\"\u001b[39m\u001b[39maddress\u001b[39m\u001b[39m\"\u001b[39m,\u001b[39m\"\u001b[39m\u001b[39mname\u001b[39m\u001b[39m\"\u001b[39m:\u001b[39m\"\u001b[39m\u001b[39m_spender\u001b[39m\u001b[39m\"\u001b[39m,\u001b[39m\"\u001b[39m\u001b[39mindexed\u001b[39m\u001b[39m\"\u001b[39m:\u001b[39mTrue\u001b[39;00m},{\u001b[39m\"\u001b[39m\u001b[39mtype\u001b[39m\u001b[39m\"\u001b[39m:\u001b[39m\"\u001b[39m\u001b[39muint256\u001b[39m\u001b[39m\"\u001b[39m,\u001b[39m\"\u001b[39m\u001b[39mname\u001b[39m\u001b[39m\"\u001b[39m:\u001b[39m\"\u001b[39m\u001b[39m_value\u001b[39m\u001b[39m\"\u001b[39m,\u001b[39m\"\u001b[39m\u001b[39mindexed\u001b[39m\u001b[39m\"\u001b[39m:\u001b[39mFalse\u001b[39;00m}],\u001b[39m\"\u001b[39m\u001b[39manonymous\u001b[39m\u001b[39m\"\u001b[39m:\u001b[39mFalse\u001b[39;00m,\u001b[39m\"\u001b[39m\u001b[39mtype\u001b[39m\u001b[39m\"\u001b[39m:\u001b[39m\"\u001b[39m\u001b[39mevent\u001b[39m\u001b[39m\"\u001b[39m},\n\u001b[0;32m   (...)\u001b[0m\n\u001b[1;32m     <a href='vscode-notebook-cell:/Users/halil/Documents/onchain-data/etherscan-crv-abi.ipynb#W0sZmlsZQ%3D%3D?line=40'>41</a>\u001b[0m     {\u001b[39m\"\u001b[39m\u001b[39mname\u001b[39m\u001b[39m\"\u001b[39m:\u001b[39m\"\u001b[39m\u001b[39mrate\u001b[39m\u001b[39m\"\u001b[39m,\u001b[39m\"\u001b[39m\u001b[39moutputs\u001b[39m\u001b[39m\"\u001b[39m:[{\u001b[39m\"\u001b[39m\u001b[39mtype\u001b[39m\u001b[39m\"\u001b[39m:\u001b[39m\"\u001b[39m\u001b[39muint256\u001b[39m\u001b[39m\"\u001b[39m,\u001b[39m\"\u001b[39m\u001b[39mname\u001b[39m\u001b[39m\"\u001b[39m:\u001b[39m\"\u001b[39m\u001b[39m\"\u001b[39m}],\u001b[39m\"\u001b[39m\u001b[39minputs\u001b[39m\u001b[39m\"\u001b[39m:[],\u001b[39m\"\u001b[39m\u001b[39mstateMutability\u001b[39m\u001b[39m\"\u001b[39m:\u001b[39m\"\u001b[39m\u001b[39mview\u001b[39m\u001b[39m\"\u001b[39m,\u001b[39m\"\u001b[39m\u001b[39mtype\u001b[39m\u001b[39m\"\u001b[39m:\u001b[39m\"\u001b[39m\u001b[39mfunction\u001b[39m\u001b[39m\"\u001b[39m,\u001b[39m\"\u001b[39m\u001b[39mgas\u001b[39m\u001b[39m\"\u001b[39m:\u001b[39m1901\u001b[39m}\n\u001b[1;32m     <a href='vscode-notebook-cell:/Users/halil/Documents/onchain-data/etherscan-crv-abi.ipynb#W0sZmlsZQ%3D%3D?line=41'>42</a>\u001b[0m ]\n\u001b[1;32m     <a href='vscode-notebook-cell:/Users/halil/Documents/onchain-data/etherscan-crv-abi.ipynb#W0sZmlsZQ%3D%3D?line=44'>45</a>\u001b[0m contract \u001b[39m=\u001b[39m web3\u001b[39m.\u001b[39meth\u001b[39m.\u001b[39mcontract(address\u001b[39m=\u001b[39mcontract_address, abi\u001b[39m=\u001b[39mcontract_abi)\n\u001b[0;32m---> <a href='vscode-notebook-cell:/Users/halil/Documents/onchain-data/etherscan-crv-abi.ipynb#W0sZmlsZQ%3D%3D?line=47'>48</a>\u001b[0m symbol \u001b[39m=\u001b[39m contract\u001b[39m.\u001b[39;49mfunctions\u001b[39m.\u001b[39;49msymbol()\u001b[39m.\u001b[39;49mcall()\n\u001b[1;32m     <a href='vscode-notebook-cell:/Users/halil/Documents/onchain-data/etherscan-crv-abi.ipynb#W0sZmlsZQ%3D%3D?line=48'>49</a>\u001b[0m decimals \u001b[39m=\u001b[39m contract\u001b[39m.\u001b[39mfunctions\u001b[39m.\u001b[39mdecimals()\u001b[39m.\u001b[39mcall()\n\u001b[1;32m     <a href='vscode-notebook-cell:/Users/halil/Documents/onchain-data/etherscan-crv-abi.ipynb#W0sZmlsZQ%3D%3D?line=49'>50</a>\u001b[0m name \u001b[39m=\u001b[39m contract\u001b[39m.\u001b[39mfunctions\u001b[39m.\u001b[39mname()\u001b[39m.\u001b[39mcall()\n",
      "File \u001b[0;32m/opt/anaconda3/lib/python3.9/site-packages/web3/contract.py:970\u001b[0m, in \u001b[0;36mContractFunction.call\u001b[0;34m(self, transaction, block_identifier, state_override)\u001b[0m\n\u001b[1;32m    964\u001b[0m         \u001b[39mraise\u001b[39;00m \u001b[39mValueError\u001b[39;00m(\n\u001b[1;32m    965\u001b[0m             \u001b[39m\"\u001b[39m\u001b[39mPlease ensure that this contract instance has an address.\u001b[39m\u001b[39m\"\u001b[39m\n\u001b[1;32m    966\u001b[0m         )\n\u001b[1;32m    968\u001b[0m block_id \u001b[39m=\u001b[39m parse_block_identifier(\u001b[39mself\u001b[39m\u001b[39m.\u001b[39mweb3, block_identifier)\n\u001b[0;32m--> 970\u001b[0m \u001b[39mreturn\u001b[39;00m call_contract_function(\n\u001b[1;32m    971\u001b[0m     \u001b[39mself\u001b[39;49m\u001b[39m.\u001b[39;49mweb3,\n\u001b[1;32m    972\u001b[0m     \u001b[39mself\u001b[39;49m\u001b[39m.\u001b[39;49maddress,\n\u001b[1;32m    973\u001b[0m     \u001b[39mself\u001b[39;49m\u001b[39m.\u001b[39;49m_return_data_normalizers,\n\u001b[1;32m    974\u001b[0m     \u001b[39mself\u001b[39;49m\u001b[39m.\u001b[39;49mfunction_identifier,\n\u001b[1;32m    975\u001b[0m     call_transaction,\n\u001b[1;32m    976\u001b[0m     block_id,\n\u001b[1;32m    977\u001b[0m     \u001b[39mself\u001b[39;49m\u001b[39m.\u001b[39;49mcontract_abi,\n\u001b[1;32m    978\u001b[0m     \u001b[39mself\u001b[39;49m\u001b[39m.\u001b[39;49mabi,\n\u001b[1;32m    979\u001b[0m     state_override,\n\u001b[1;32m    980\u001b[0m     \u001b[39m*\u001b[39;49m\u001b[39mself\u001b[39;49m\u001b[39m.\u001b[39;49margs,\n\u001b[1;32m    981\u001b[0m     \u001b[39m*\u001b[39;49m\u001b[39m*\u001b[39;49m\u001b[39mself\u001b[39;49m\u001b[39m.\u001b[39;49mkwargs\n\u001b[1;32m    982\u001b[0m )\n",
      "File \u001b[0;32m/opt/anaconda3/lib/python3.9/site-packages/web3/contract.py:1525\u001b[0m, in \u001b[0;36mcall_contract_function\u001b[0;34m(web3, address, normalizers, function_identifier, transaction, block_id, contract_abi, fn_abi, state_override, *args, **kwargs)\u001b[0m\n\u001b[1;32m   1510\u001b[0m \u001b[39m\u001b[39m\u001b[39m\"\"\"\u001b[39;00m\n\u001b[1;32m   1511\u001b[0m \u001b[39mHelper function for interacting with a contract function using the\u001b[39;00m\n\u001b[1;32m   1512\u001b[0m \u001b[39m`eth_call` API.\u001b[39;00m\n\u001b[1;32m   1513\u001b[0m \u001b[39m\"\"\"\u001b[39;00m\n\u001b[1;32m   1514\u001b[0m call_transaction \u001b[39m=\u001b[39m prepare_transaction(\n\u001b[1;32m   1515\u001b[0m     address,\n\u001b[1;32m   1516\u001b[0m     web3,\n\u001b[0;32m   (...)\u001b[0m\n\u001b[1;32m   1522\u001b[0m     fn_kwargs\u001b[39m=\u001b[39mkwargs,\n\u001b[1;32m   1523\u001b[0m )\n\u001b[0;32m-> 1525\u001b[0m return_data \u001b[39m=\u001b[39m web3\u001b[39m.\u001b[39;49meth\u001b[39m.\u001b[39;49mcall(\n\u001b[1;32m   1526\u001b[0m     call_transaction,\n\u001b[1;32m   1527\u001b[0m     block_identifier\u001b[39m=\u001b[39;49mblock_id,\n\u001b[1;32m   1528\u001b[0m     state_override\u001b[39m=\u001b[39;49mstate_override,\n\u001b[1;32m   1529\u001b[0m )\n\u001b[1;32m   1531\u001b[0m \u001b[39mif\u001b[39;00m fn_abi \u001b[39mis\u001b[39;00m \u001b[39mNone\u001b[39;00m:\n\u001b[1;32m   1532\u001b[0m     fn_abi \u001b[39m=\u001b[39m find_matching_fn_abi(contract_abi, web3\u001b[39m.\u001b[39mcodec, function_identifier, args, kwargs)\n",
      "File \u001b[0;32m/opt/anaconda3/lib/python3.9/site-packages/web3/module.py:57\u001b[0m, in \u001b[0;36mretrieve_blocking_method_call_fn.<locals>.caller\u001b[0;34m(*args, **kwargs)\u001b[0m\n\u001b[1;32m     55\u001b[0m     \u001b[39mreturn\u001b[39;00m LogFilter(eth_module\u001b[39m=\u001b[39mmodule, filter_id\u001b[39m=\u001b[39merr\u001b[39m.\u001b[39mfilter_id)\n\u001b[1;32m     56\u001b[0m result_formatters, error_formatters, null_result_formatters \u001b[39m=\u001b[39m response_formatters\n\u001b[0;32m---> 57\u001b[0m result \u001b[39m=\u001b[39m w3\u001b[39m.\u001b[39;49mmanager\u001b[39m.\u001b[39;49mrequest_blocking(method_str,\n\u001b[1;32m     58\u001b[0m                                      params,\n\u001b[1;32m     59\u001b[0m                                      error_formatters,\n\u001b[1;32m     60\u001b[0m                                      null_result_formatters)\n\u001b[1;32m     61\u001b[0m \u001b[39mreturn\u001b[39;00m apply_result_formatters(result_formatters, result)\n",
      "File \u001b[0;32m/opt/anaconda3/lib/python3.9/site-packages/web3/manager.py:197\u001b[0m, in \u001b[0;36mRequestManager.request_blocking\u001b[0;34m(self, method, params, error_formatters, null_result_formatters)\u001b[0m\n\u001b[1;32m    187\u001b[0m \u001b[39mdef\u001b[39;00m \u001b[39mrequest_blocking\u001b[39m(\n\u001b[1;32m    188\u001b[0m     \u001b[39mself\u001b[39m,\n\u001b[1;32m    189\u001b[0m     method: Union[RPCEndpoint, Callable[\u001b[39m.\u001b[39m\u001b[39m.\u001b[39m\u001b[39m.\u001b[39m, RPCEndpoint]],\n\u001b[0;32m   (...)\u001b[0m\n\u001b[1;32m    192\u001b[0m     null_result_formatters: Optional[Callable[\u001b[39m.\u001b[39m\u001b[39m.\u001b[39m\u001b[39m.\u001b[39m, Any]] \u001b[39m=\u001b[39m \u001b[39mNone\u001b[39;00m,\n\u001b[1;32m    193\u001b[0m ) \u001b[39m-\u001b[39m\u001b[39m>\u001b[39m Any:\n\u001b[1;32m    194\u001b[0m \u001b[39m    \u001b[39m\u001b[39m\"\"\"\u001b[39;00m\n\u001b[1;32m    195\u001b[0m \u001b[39m    Make a synchronous request using the provider\u001b[39;00m\n\u001b[1;32m    196\u001b[0m \u001b[39m    \"\"\"\u001b[39;00m\n\u001b[0;32m--> 197\u001b[0m     response \u001b[39m=\u001b[39m \u001b[39mself\u001b[39;49m\u001b[39m.\u001b[39;49m_make_request(method, params)\n\u001b[1;32m    198\u001b[0m     \u001b[39mreturn\u001b[39;00m \u001b[39mself\u001b[39m\u001b[39m.\u001b[39mformatted_response(response,\n\u001b[1;32m    199\u001b[0m                                    params,\n\u001b[1;32m    200\u001b[0m                                    error_formatters,\n\u001b[1;32m    201\u001b[0m                                    null_result_formatters)\n",
      "File \u001b[0;32m/opt/anaconda3/lib/python3.9/site-packages/web3/manager.py:150\u001b[0m, in \u001b[0;36mRequestManager._make_request\u001b[0;34m(self, method, params)\u001b[0m\n\u001b[1;32m    146\u001b[0m request_func \u001b[39m=\u001b[39m \u001b[39mself\u001b[39m\u001b[39m.\u001b[39mprovider\u001b[39m.\u001b[39mrequest_func(\n\u001b[1;32m    147\u001b[0m     \u001b[39mself\u001b[39m\u001b[39m.\u001b[39mweb3,\n\u001b[1;32m    148\u001b[0m     \u001b[39mself\u001b[39m\u001b[39m.\u001b[39mmiddleware_onion)\n\u001b[1;32m    149\u001b[0m \u001b[39mself\u001b[39m\u001b[39m.\u001b[39mlogger\u001b[39m.\u001b[39mdebug(\u001b[39m\"\u001b[39m\u001b[39mMaking request. Method: \u001b[39m\u001b[39m%s\u001b[39;00m\u001b[39m\"\u001b[39m, method)\n\u001b[0;32m--> 150\u001b[0m \u001b[39mreturn\u001b[39;00m request_func(method, params)\n",
      "File \u001b[0;32m/opt/anaconda3/lib/python3.9/site-packages/web3/middleware/formatting.py:94\u001b[0m, in \u001b[0;36mconstruct_web3_formatting_middleware.<locals>.formatter_middleware.<locals>.middleware\u001b[0;34m(method, params)\u001b[0m\n\u001b[1;32m     92\u001b[0m     formatter \u001b[39m=\u001b[39m request_formatters[method]\n\u001b[1;32m     93\u001b[0m     params \u001b[39m=\u001b[39m formatter(params)\n\u001b[0;32m---> 94\u001b[0m response \u001b[39m=\u001b[39m make_request(method, params)\n\u001b[1;32m     96\u001b[0m \u001b[39mreturn\u001b[39;00m _apply_response_formatters(method\u001b[39m=\u001b[39mmethod, response\u001b[39m=\u001b[39mresponse, \u001b[39m*\u001b[39m\u001b[39m*\u001b[39mformatters)\n",
      "File \u001b[0;32m/opt/anaconda3/lib/python3.9/site-packages/web3/middleware/gas_price_strategy.py:90\u001b[0m, in \u001b[0;36mgas_price_strategy_middleware.<locals>.middleware\u001b[0;34m(method, params)\u001b[0m\n\u001b[1;32m     86\u001b[0m     transaction \u001b[39m=\u001b[39m validate_transaction_params(\n\u001b[1;32m     87\u001b[0m         transaction, latest_block, generated_gas_price\n\u001b[1;32m     88\u001b[0m     )\n\u001b[1;32m     89\u001b[0m     \u001b[39mreturn\u001b[39;00m make_request(method, (transaction,))\n\u001b[0;32m---> 90\u001b[0m \u001b[39mreturn\u001b[39;00m make_request(method, params)\n",
      "File \u001b[0;32m/opt/anaconda3/lib/python3.9/site-packages/web3/middleware/formatting.py:94\u001b[0m, in \u001b[0;36mconstruct_web3_formatting_middleware.<locals>.formatter_middleware.<locals>.middleware\u001b[0;34m(method, params)\u001b[0m\n\u001b[1;32m     92\u001b[0m     formatter \u001b[39m=\u001b[39m request_formatters[method]\n\u001b[1;32m     93\u001b[0m     params \u001b[39m=\u001b[39m formatter(params)\n\u001b[0;32m---> 94\u001b[0m response \u001b[39m=\u001b[39m make_request(method, params)\n\u001b[1;32m     96\u001b[0m \u001b[39mreturn\u001b[39;00m _apply_response_formatters(method\u001b[39m=\u001b[39mmethod, response\u001b[39m=\u001b[39mresponse, \u001b[39m*\u001b[39m\u001b[39m*\u001b[39mformatters)\n",
      "File \u001b[0;32m/opt/anaconda3/lib/python3.9/site-packages/web3/middleware/attrdict.py:33\u001b[0m, in \u001b[0;36mattrdict_middleware.<locals>.middleware\u001b[0;34m(method, params)\u001b[0m\n\u001b[1;32m     32\u001b[0m \u001b[39mdef\u001b[39;00m \u001b[39mmiddleware\u001b[39m(method: RPCEndpoint, params: Any) \u001b[39m-\u001b[39m\u001b[39m>\u001b[39m RPCResponse:\n\u001b[0;32m---> 33\u001b[0m     response \u001b[39m=\u001b[39m make_request(method, params)\n\u001b[1;32m     35\u001b[0m     \u001b[39mif\u001b[39;00m \u001b[39m'\u001b[39m\u001b[39mresult\u001b[39m\u001b[39m'\u001b[39m \u001b[39min\u001b[39;00m response:\n\u001b[1;32m     36\u001b[0m         result \u001b[39m=\u001b[39m response[\u001b[39m'\u001b[39m\u001b[39mresult\u001b[39m\u001b[39m'\u001b[39m]\n",
      "File \u001b[0;32m/opt/anaconda3/lib/python3.9/site-packages/web3/middleware/formatting.py:94\u001b[0m, in \u001b[0;36mconstruct_web3_formatting_middleware.<locals>.formatter_middleware.<locals>.middleware\u001b[0;34m(method, params)\u001b[0m\n\u001b[1;32m     92\u001b[0m     formatter \u001b[39m=\u001b[39m request_formatters[method]\n\u001b[1;32m     93\u001b[0m     params \u001b[39m=\u001b[39m formatter(params)\n\u001b[0;32m---> 94\u001b[0m response \u001b[39m=\u001b[39m make_request(method, params)\n\u001b[1;32m     96\u001b[0m \u001b[39mreturn\u001b[39;00m _apply_response_formatters(method\u001b[39m=\u001b[39mmethod, response\u001b[39m=\u001b[39mresponse, \u001b[39m*\u001b[39m\u001b[39m*\u001b[39mformatters)\n",
      "File \u001b[0;32m/opt/anaconda3/lib/python3.9/site-packages/web3/middleware/formatting.py:87\u001b[0m, in \u001b[0;36mconstruct_web3_formatting_middleware.<locals>.formatter_middleware.<locals>.middleware\u001b[0;34m(method, params)\u001b[0m\n\u001b[1;32m     84\u001b[0m \u001b[39mdef\u001b[39;00m \u001b[39mmiddleware\u001b[39m(method: RPCEndpoint, params: Any) \u001b[39m-\u001b[39m\u001b[39m>\u001b[39m RPCResponse:\n\u001b[1;32m     85\u001b[0m     formatters \u001b[39m=\u001b[39m merge(\n\u001b[1;32m     86\u001b[0m         FORMATTER_DEFAULTS,\n\u001b[0;32m---> 87\u001b[0m         web3_formatters_builder(w3, method),\n\u001b[1;32m     88\u001b[0m     )\n\u001b[1;32m     89\u001b[0m     request_formatters \u001b[39m=\u001b[39m formatters\u001b[39m.\u001b[39mpop(\u001b[39m'\u001b[39m\u001b[39mrequest_formatters\u001b[39m\u001b[39m'\u001b[39m)\n\u001b[1;32m     91\u001b[0m     \u001b[39mif\u001b[39;00m method \u001b[39min\u001b[39;00m request_formatters:\n",
      "File \u001b[0;32m/opt/anaconda3/lib/python3.9/site-packages/web3/middleware/validation.py:140\u001b[0m, in \u001b[0;36mbuild_method_validators\u001b[0;34m(w3, method)\u001b[0m\n\u001b[1;32m    138\u001b[0m request_formatters \u001b[39m=\u001b[39m {}\n\u001b[1;32m    139\u001b[0m \u001b[39mif\u001b[39;00m RPCEndpoint(method) \u001b[39min\u001b[39;00m METHODS_TO_VALIDATE:\n\u001b[0;32m--> 140\u001b[0m     w3_chain_id \u001b[39m=\u001b[39m w3\u001b[39m.\u001b[39;49meth\u001b[39m.\u001b[39;49mchain_id\n\u001b[1;32m    141\u001b[0m     \u001b[39mfor\u001b[39;00m method \u001b[39min\u001b[39;00m METHODS_TO_VALIDATE:\n\u001b[1;32m    142\u001b[0m         request_formatters[method] \u001b[39m=\u001b[39m _chain_id_validator(w3_chain_id)\n",
      "File \u001b[0;32m/opt/anaconda3/lib/python3.9/site-packages/web3/eth.py:632\u001b[0m, in \u001b[0;36mEth.chain_id\u001b[0;34m(self)\u001b[0m\n\u001b[1;32m    630\u001b[0m \u001b[39m@property\u001b[39m\n\u001b[1;32m    631\u001b[0m \u001b[39mdef\u001b[39;00m \u001b[39mchain_id\u001b[39m(\u001b[39mself\u001b[39m) \u001b[39m-\u001b[39m\u001b[39m>\u001b[39m \u001b[39mint\u001b[39m:\n\u001b[0;32m--> 632\u001b[0m     \u001b[39mreturn\u001b[39;00m \u001b[39mself\u001b[39;49m\u001b[39m.\u001b[39;49m_chain_id()\n",
      "File \u001b[0;32m/opt/anaconda3/lib/python3.9/site-packages/web3/module.py:57\u001b[0m, in \u001b[0;36mretrieve_blocking_method_call_fn.<locals>.caller\u001b[0;34m(*args, **kwargs)\u001b[0m\n\u001b[1;32m     55\u001b[0m     \u001b[39mreturn\u001b[39;00m LogFilter(eth_module\u001b[39m=\u001b[39mmodule, filter_id\u001b[39m=\u001b[39merr\u001b[39m.\u001b[39mfilter_id)\n\u001b[1;32m     56\u001b[0m result_formatters, error_formatters, null_result_formatters \u001b[39m=\u001b[39m response_formatters\n\u001b[0;32m---> 57\u001b[0m result \u001b[39m=\u001b[39m w3\u001b[39m.\u001b[39;49mmanager\u001b[39m.\u001b[39;49mrequest_blocking(method_str,\n\u001b[1;32m     58\u001b[0m                                      params,\n\u001b[1;32m     59\u001b[0m                                      error_formatters,\n\u001b[1;32m     60\u001b[0m                                      null_result_formatters)\n\u001b[1;32m     61\u001b[0m \u001b[39mreturn\u001b[39;00m apply_result_formatters(result_formatters, result)\n",
      "File \u001b[0;32m/opt/anaconda3/lib/python3.9/site-packages/web3/manager.py:197\u001b[0m, in \u001b[0;36mRequestManager.request_blocking\u001b[0;34m(self, method, params, error_formatters, null_result_formatters)\u001b[0m\n\u001b[1;32m    187\u001b[0m \u001b[39mdef\u001b[39;00m \u001b[39mrequest_blocking\u001b[39m(\n\u001b[1;32m    188\u001b[0m     \u001b[39mself\u001b[39m,\n\u001b[1;32m    189\u001b[0m     method: Union[RPCEndpoint, Callable[\u001b[39m.\u001b[39m\u001b[39m.\u001b[39m\u001b[39m.\u001b[39m, RPCEndpoint]],\n\u001b[0;32m   (...)\u001b[0m\n\u001b[1;32m    192\u001b[0m     null_result_formatters: Optional[Callable[\u001b[39m.\u001b[39m\u001b[39m.\u001b[39m\u001b[39m.\u001b[39m, Any]] \u001b[39m=\u001b[39m \u001b[39mNone\u001b[39;00m,\n\u001b[1;32m    193\u001b[0m ) \u001b[39m-\u001b[39m\u001b[39m>\u001b[39m Any:\n\u001b[1;32m    194\u001b[0m \u001b[39m    \u001b[39m\u001b[39m\"\"\"\u001b[39;00m\n\u001b[1;32m    195\u001b[0m \u001b[39m    Make a synchronous request using the provider\u001b[39;00m\n\u001b[1;32m    196\u001b[0m \u001b[39m    \"\"\"\u001b[39;00m\n\u001b[0;32m--> 197\u001b[0m     response \u001b[39m=\u001b[39m \u001b[39mself\u001b[39;49m\u001b[39m.\u001b[39;49m_make_request(method, params)\n\u001b[1;32m    198\u001b[0m     \u001b[39mreturn\u001b[39;00m \u001b[39mself\u001b[39m\u001b[39m.\u001b[39mformatted_response(response,\n\u001b[1;32m    199\u001b[0m                                    params,\n\u001b[1;32m    200\u001b[0m                                    error_formatters,\n\u001b[1;32m    201\u001b[0m                                    null_result_formatters)\n",
      "File \u001b[0;32m/opt/anaconda3/lib/python3.9/site-packages/web3/manager.py:150\u001b[0m, in \u001b[0;36mRequestManager._make_request\u001b[0;34m(self, method, params)\u001b[0m\n\u001b[1;32m    146\u001b[0m request_func \u001b[39m=\u001b[39m \u001b[39mself\u001b[39m\u001b[39m.\u001b[39mprovider\u001b[39m.\u001b[39mrequest_func(\n\u001b[1;32m    147\u001b[0m     \u001b[39mself\u001b[39m\u001b[39m.\u001b[39mweb3,\n\u001b[1;32m    148\u001b[0m     \u001b[39mself\u001b[39m\u001b[39m.\u001b[39mmiddleware_onion)\n\u001b[1;32m    149\u001b[0m \u001b[39mself\u001b[39m\u001b[39m.\u001b[39mlogger\u001b[39m.\u001b[39mdebug(\u001b[39m\"\u001b[39m\u001b[39mMaking request. Method: \u001b[39m\u001b[39m%s\u001b[39;00m\u001b[39m\"\u001b[39m, method)\n\u001b[0;32m--> 150\u001b[0m \u001b[39mreturn\u001b[39;00m request_func(method, params)\n",
      "File \u001b[0;32m/opt/anaconda3/lib/python3.9/site-packages/web3/middleware/formatting.py:94\u001b[0m, in \u001b[0;36mconstruct_web3_formatting_middleware.<locals>.formatter_middleware.<locals>.middleware\u001b[0;34m(method, params)\u001b[0m\n\u001b[1;32m     92\u001b[0m     formatter \u001b[39m=\u001b[39m request_formatters[method]\n\u001b[1;32m     93\u001b[0m     params \u001b[39m=\u001b[39m formatter(params)\n\u001b[0;32m---> 94\u001b[0m response \u001b[39m=\u001b[39m make_request(method, params)\n\u001b[1;32m     96\u001b[0m \u001b[39mreturn\u001b[39;00m _apply_response_formatters(method\u001b[39m=\u001b[39mmethod, response\u001b[39m=\u001b[39mresponse, \u001b[39m*\u001b[39m\u001b[39m*\u001b[39mformatters)\n",
      "File \u001b[0;32m/opt/anaconda3/lib/python3.9/site-packages/web3/middleware/gas_price_strategy.py:90\u001b[0m, in \u001b[0;36mgas_price_strategy_middleware.<locals>.middleware\u001b[0;34m(method, params)\u001b[0m\n\u001b[1;32m     86\u001b[0m     transaction \u001b[39m=\u001b[39m validate_transaction_params(\n\u001b[1;32m     87\u001b[0m         transaction, latest_block, generated_gas_price\n\u001b[1;32m     88\u001b[0m     )\n\u001b[1;32m     89\u001b[0m     \u001b[39mreturn\u001b[39;00m make_request(method, (transaction,))\n\u001b[0;32m---> 90\u001b[0m \u001b[39mreturn\u001b[39;00m make_request(method, params)\n",
      "File \u001b[0;32m/opt/anaconda3/lib/python3.9/site-packages/web3/middleware/formatting.py:94\u001b[0m, in \u001b[0;36mconstruct_web3_formatting_middleware.<locals>.formatter_middleware.<locals>.middleware\u001b[0;34m(method, params)\u001b[0m\n\u001b[1;32m     92\u001b[0m     formatter \u001b[39m=\u001b[39m request_formatters[method]\n\u001b[1;32m     93\u001b[0m     params \u001b[39m=\u001b[39m formatter(params)\n\u001b[0;32m---> 94\u001b[0m response \u001b[39m=\u001b[39m make_request(method, params)\n\u001b[1;32m     96\u001b[0m \u001b[39mreturn\u001b[39;00m _apply_response_formatters(method\u001b[39m=\u001b[39mmethod, response\u001b[39m=\u001b[39mresponse, \u001b[39m*\u001b[39m\u001b[39m*\u001b[39mformatters)\n",
      "File \u001b[0;32m/opt/anaconda3/lib/python3.9/site-packages/web3/middleware/attrdict.py:33\u001b[0m, in \u001b[0;36mattrdict_middleware.<locals>.middleware\u001b[0;34m(method, params)\u001b[0m\n\u001b[1;32m     32\u001b[0m \u001b[39mdef\u001b[39;00m \u001b[39mmiddleware\u001b[39m(method: RPCEndpoint, params: Any) \u001b[39m-\u001b[39m\u001b[39m>\u001b[39m RPCResponse:\n\u001b[0;32m---> 33\u001b[0m     response \u001b[39m=\u001b[39m make_request(method, params)\n\u001b[1;32m     35\u001b[0m     \u001b[39mif\u001b[39;00m \u001b[39m'\u001b[39m\u001b[39mresult\u001b[39m\u001b[39m'\u001b[39m \u001b[39min\u001b[39;00m response:\n\u001b[1;32m     36\u001b[0m         result \u001b[39m=\u001b[39m response[\u001b[39m'\u001b[39m\u001b[39mresult\u001b[39m\u001b[39m'\u001b[39m]\n",
      "File \u001b[0;32m/opt/anaconda3/lib/python3.9/site-packages/web3/middleware/formatting.py:94\u001b[0m, in \u001b[0;36mconstruct_web3_formatting_middleware.<locals>.formatter_middleware.<locals>.middleware\u001b[0;34m(method, params)\u001b[0m\n\u001b[1;32m     92\u001b[0m     formatter \u001b[39m=\u001b[39m request_formatters[method]\n\u001b[1;32m     93\u001b[0m     params \u001b[39m=\u001b[39m formatter(params)\n\u001b[0;32m---> 94\u001b[0m response \u001b[39m=\u001b[39m make_request(method, params)\n\u001b[1;32m     96\u001b[0m \u001b[39mreturn\u001b[39;00m _apply_response_formatters(method\u001b[39m=\u001b[39mmethod, response\u001b[39m=\u001b[39mresponse, \u001b[39m*\u001b[39m\u001b[39m*\u001b[39mformatters)\n",
      "File \u001b[0;32m/opt/anaconda3/lib/python3.9/site-packages/web3/middleware/formatting.py:94\u001b[0m, in \u001b[0;36mconstruct_web3_formatting_middleware.<locals>.formatter_middleware.<locals>.middleware\u001b[0;34m(method, params)\u001b[0m\n\u001b[1;32m     92\u001b[0m     formatter \u001b[39m=\u001b[39m request_formatters[method]\n\u001b[1;32m     93\u001b[0m     params \u001b[39m=\u001b[39m formatter(params)\n\u001b[0;32m---> 94\u001b[0m response \u001b[39m=\u001b[39m make_request(method, params)\n\u001b[1;32m     96\u001b[0m \u001b[39mreturn\u001b[39;00m _apply_response_formatters(method\u001b[39m=\u001b[39mmethod, response\u001b[39m=\u001b[39mresponse, \u001b[39m*\u001b[39m\u001b[39m*\u001b[39mformatters)\n",
      "File \u001b[0;32m/opt/anaconda3/lib/python3.9/site-packages/web3/middleware/formatting.py:94\u001b[0m, in \u001b[0;36mconstruct_web3_formatting_middleware.<locals>.formatter_middleware.<locals>.middleware\u001b[0;34m(method, params)\u001b[0m\n\u001b[1;32m     92\u001b[0m     formatter \u001b[39m=\u001b[39m request_formatters[method]\n\u001b[1;32m     93\u001b[0m     params \u001b[39m=\u001b[39m formatter(params)\n\u001b[0;32m---> 94\u001b[0m response \u001b[39m=\u001b[39m make_request(method, params)\n\u001b[1;32m     96\u001b[0m \u001b[39mreturn\u001b[39;00m _apply_response_formatters(method\u001b[39m=\u001b[39mmethod, response\u001b[39m=\u001b[39mresponse, \u001b[39m*\u001b[39m\u001b[39m*\u001b[39mformatters)\n",
      "File \u001b[0;32m/opt/anaconda3/lib/python3.9/site-packages/web3/middleware/buffered_gas_estimate.py:40\u001b[0m, in \u001b[0;36mbuffered_gas_estimate_middleware.<locals>.middleware\u001b[0;34m(method, params)\u001b[0m\n\u001b[1;32m     34\u001b[0m         transaction \u001b[39m=\u001b[39m assoc(\n\u001b[1;32m     35\u001b[0m             transaction,\n\u001b[1;32m     36\u001b[0m             \u001b[39m'\u001b[39m\u001b[39mgas\u001b[39m\u001b[39m'\u001b[39m,\n\u001b[1;32m     37\u001b[0m             \u001b[39mhex\u001b[39m(get_buffered_gas_estimate(web3, transaction)),\n\u001b[1;32m     38\u001b[0m         )\n\u001b[1;32m     39\u001b[0m         \u001b[39mreturn\u001b[39;00m make_request(method, [transaction])\n\u001b[0;32m---> 40\u001b[0m \u001b[39mreturn\u001b[39;00m make_request(method, params)\n",
      "File \u001b[0;32m/opt/anaconda3/lib/python3.9/site-packages/web3/middleware/exception_retry_request.py:114\u001b[0m, in \u001b[0;36mexception_retry_middleware.<locals>.middleware\u001b[0;34m(method, params)\u001b[0m\n\u001b[1;32m    112\u001b[0m     \u001b[39mreturn\u001b[39;00m \u001b[39mNone\u001b[39;00m\n\u001b[1;32m    113\u001b[0m \u001b[39melse\u001b[39;00m:\n\u001b[0;32m--> 114\u001b[0m     \u001b[39mreturn\u001b[39;00m make_request(method, params)\n",
      "File \u001b[0;32m/opt/anaconda3/lib/python3.9/site-packages/web3/providers/rpc.py:88\u001b[0m, in \u001b[0;36mHTTPProvider.make_request\u001b[0;34m(self, method, params)\u001b[0m\n\u001b[1;32m     85\u001b[0m \u001b[39mself\u001b[39m\u001b[39m.\u001b[39mlogger\u001b[39m.\u001b[39mdebug(\u001b[39m\"\u001b[39m\u001b[39mMaking request HTTP. URI: \u001b[39m\u001b[39m%s\u001b[39;00m\u001b[39m, Method: \u001b[39m\u001b[39m%s\u001b[39;00m\u001b[39m\"\u001b[39m,\n\u001b[1;32m     86\u001b[0m                   \u001b[39mself\u001b[39m\u001b[39m.\u001b[39mendpoint_uri, method)\n\u001b[1;32m     87\u001b[0m request_data \u001b[39m=\u001b[39m \u001b[39mself\u001b[39m\u001b[39m.\u001b[39mencode_rpc_request(method, params)\n\u001b[0;32m---> 88\u001b[0m raw_response \u001b[39m=\u001b[39m make_post_request(\n\u001b[1;32m     89\u001b[0m     \u001b[39mself\u001b[39;49m\u001b[39m.\u001b[39;49mendpoint_uri,\n\u001b[1;32m     90\u001b[0m     request_data,\n\u001b[1;32m     91\u001b[0m     \u001b[39m*\u001b[39;49m\u001b[39m*\u001b[39;49m\u001b[39mself\u001b[39;49m\u001b[39m.\u001b[39;49mget_request_kwargs()\n\u001b[1;32m     92\u001b[0m )\n\u001b[1;32m     93\u001b[0m response \u001b[39m=\u001b[39m \u001b[39mself\u001b[39m\u001b[39m.\u001b[39mdecode_rpc_response(raw_response)\n\u001b[1;32m     94\u001b[0m \u001b[39mself\u001b[39m\u001b[39m.\u001b[39mlogger\u001b[39m.\u001b[39mdebug(\u001b[39m\"\u001b[39m\u001b[39mGetting response HTTP. URI: \u001b[39m\u001b[39m%s\u001b[39;00m\u001b[39m, \u001b[39m\u001b[39m\"\u001b[39m\n\u001b[1;32m     95\u001b[0m                   \u001b[39m\"\u001b[39m\u001b[39mMethod: \u001b[39m\u001b[39m%s\u001b[39;00m\u001b[39m, Response: \u001b[39m\u001b[39m%s\u001b[39;00m\u001b[39m\"\u001b[39m,\n\u001b[1;32m     96\u001b[0m                   \u001b[39mself\u001b[39m\u001b[39m.\u001b[39mendpoint_uri, method, response)\n",
      "File \u001b[0;32m/opt/anaconda3/lib/python3.9/site-packages/web3/_utils/request.py:103\u001b[0m, in \u001b[0;36mmake_post_request\u001b[0;34m(endpoint_uri, data, *args, **kwargs)\u001b[0m\n\u001b[1;32m    101\u001b[0m \u001b[39m# https://github.com/python/mypy/issues/2582\u001b[39;00m\n\u001b[1;32m    102\u001b[0m response \u001b[39m=\u001b[39m session\u001b[39m.\u001b[39mpost(endpoint_uri, data\u001b[39m=\u001b[39mdata, \u001b[39m*\u001b[39margs, \u001b[39m*\u001b[39m\u001b[39m*\u001b[39mkwargs)  \u001b[39m# type: ignore\u001b[39;00m\n\u001b[0;32m--> 103\u001b[0m response\u001b[39m.\u001b[39;49mraise_for_status()\n\u001b[1;32m    105\u001b[0m \u001b[39mreturn\u001b[39;00m response\u001b[39m.\u001b[39mcontent\n",
      "File \u001b[0;32m/opt/anaconda3/lib/python3.9/site-packages/requests/models.py:1021\u001b[0m, in \u001b[0;36mResponse.raise_for_status\u001b[0;34m(self)\u001b[0m\n\u001b[1;32m   1016\u001b[0m     http_error_msg \u001b[39m=\u001b[39m (\n\u001b[1;32m   1017\u001b[0m         \u001b[39mf\u001b[39m\u001b[39m\"\u001b[39m\u001b[39m{\u001b[39;00m\u001b[39mself\u001b[39m\u001b[39m.\u001b[39mstatus_code\u001b[39m}\u001b[39;00m\u001b[39m Server Error: \u001b[39m\u001b[39m{\u001b[39;00mreason\u001b[39m}\u001b[39;00m\u001b[39m for url: \u001b[39m\u001b[39m{\u001b[39;00m\u001b[39mself\u001b[39m\u001b[39m.\u001b[39murl\u001b[39m}\u001b[39;00m\u001b[39m\"\u001b[39m\n\u001b[1;32m   1018\u001b[0m     )\n\u001b[1;32m   1020\u001b[0m \u001b[39mif\u001b[39;00m http_error_msg:\n\u001b[0;32m-> 1021\u001b[0m     \u001b[39mraise\u001b[39;00m HTTPError(http_error_msg, response\u001b[39m=\u001b[39m\u001b[39mself\u001b[39m)\n",
      "\u001b[0;31mHTTPError\u001b[0m: 401 Client Error: Unauthorized for url: https://mainnet.infura.io/v3/MyInfuraKey"
     ]
    }
   ],
   "source": [
    "from web3 import Web3, HTTPProvider\n",
    "\n",
    "web3 = Web3(Web3.HTTPProvider('https://mainnet.infura.io/v3/7148d2a369be41ffbc2729082be6f49a'))\n",
    "\n",
    "contract_address = \"0xD533a949740bb3306d119CC777fa900bA034cd52\" #CRV OR STH ELSE\n",
    "\n",
    "wallet_address = \"0x725d6e403700f076009be90a6fed903bebd94dd3\"\n",
    "address_int = Web3.toChecksumAddress(wallet_address) #convert wallet address \n",
    "\n",
    "\n",
    "contract_abi = [\n",
    "    {\"name\":\"Transfer\",\"inputs\":[{\"type\":\"address\",\"name\":\"_from\",\"indexed\":True},{\"type\":\"address\",\"name\":\"_to\",\"indexed\":True},{\"type\":\"uint256\",\"name\":\"_value\",\"indexed\":False}],\"anonymous\":False,\"type\":\"event\"},\n",
    "    {\"name\":\"Approval\",\"inputs\":[{\"type\":\"address\",\"name\":\"_owner\",\"indexed\":True},{\"type\":\"address\",\"name\":\"_spender\",\"indexed\":True},{\"type\":\"uint256\",\"name\":\"_value\",\"indexed\":False}],\"anonymous\":False,\"type\":\"event\"},\n",
    "    {\"name\":\"UpdateMiningParameters\",\"inputs\":[{\"type\":\"uint256\",\"name\":\"time\",\"indexed\":False},{\"type\":\"uint256\",\"name\":\"rate\",\"indexed\":False},{\"type\":\"uint256\",\"name\":\"supply\",\"indexed\":False}],\"anonymous\":False,\"type\":\"event\"},\n",
    "    {\"name\":\"SetMinter\",\"inputs\":[{\"type\":\"address\",\"name\":\"minter\",\"indexed\":False}],\"anonymous\":False,\"type\":\"event\"},\n",
    "    {\"name\":\"SetAdmin\",\"inputs\":[{\"type\":\"address\",\"name\":\"admin\",\"indexed\":False}],\"anonymous\":False,\"type\":\"event\"},\n",
    "    {\"outputs\":[],\"inputs\":[{\"type\":\"string\",\"name\":\"_name\"},{\"type\":\"string\",\"name\":\"_symbol\"},{\"type\":\"uint256\",\"name\":\"_decimals\"}],\"stateMutability\":\"nonpayable\",\"type\":\"constructor\"},\n",
    "    {\"name\":\"update_mining_parameters\",\"outputs\":[],\"inputs\":[],\"stateMutability\":\"nonpayable\",\"type\":\"function\",\"gas\":148748},\n",
    "    {\"name\":\"start_epoch_time_write\",\"outputs\":[{\"type\":\"uint256\",\"name\":\"\"}],\"inputs\":[],\"stateMutability\":\"nonpayable\",\"type\":\"function\",\"gas\":149603},\n",
    "    {\"name\":\"future_epoch_time_write\",\"outputs\":[{\"type\":\"uint256\",\"name\":\"\"}],\"inputs\":[],\"stateMutability\":\"nonpayable\",\"type\":\"function\",\"gas\":149806},\n",
    "    {\"name\":\"available_supply\",\"outputs\":[{\"type\":\"uint256\",\"name\":\"\"}],\"inputs\":[],\"stateMutability\":\"view\",\"type\":\"function\",\"gas\":4018},\n",
    "    {\"name\":\"mintable_in_timeframe\",\"outputs\":[{\"type\":\"uint256\",\"name\":\"\"}],\"inputs\":[{\"type\":\"uint256\",\"name\":\"start\"},{\"type\":\"uint256\",\"name\":\"end\"}],\"stateMutability\":\"view\",\"type\":\"function\",\"gas\":2216141},\n",
    "    {\"name\":\"set_minter\",\"outputs\":[],\"inputs\":[{\"type\":\"address\",\"name\":\"_minter\"}],\"stateMutability\":\"nonpayable\",\"type\":\"function\",\"gas\":38698},\n",
    "    {\"name\":\"set_admin\",\"outputs\":[],\"inputs\":[{\"type\":\"address\",\"name\":\"_admin\"}],\"stateMutability\":\"nonpayable\",\"type\":\"function\",\"gas\":37837},\n",
    "    {\"name\":\"totalSupply\",\"outputs\":[{\"type\":\"uint256\",\"name\":\"\"}],\"inputs\":[],\"stateMutability\":\"view\",\"type\":\"function\",\"gas\":1421},\n",
    "    {\"name\":\"allowance\",\"outputs\":[{\"type\":\"uint256\",\"name\":\"\"}],\"inputs\":[{\"type\":\"address\",\"name\":\"_owner\"},{\"type\":\"address\",\"name\":\"_spender\"}],\"stateMutability\":\"view\",\"type\":\"function\",\"gas\":1759},\n",
    "    {\"name\":\"transfer\",\"outputs\":[{\"type\":\"bool\",\"name\":\"\"}],\"inputs\":[{\"type\":\"address\",\"name\":\"_to\"},{\"type\":\"uint256\",\"name\":\"_value\"}],\"stateMutability\":\"nonpayable\",\"type\":\"function\",\"gas\":75139},\n",
    "    {\"name\":\"transferFrom\",\"outputs\":[{\"type\":\"bool\",\"name\":\"\"}],\"inputs\":[{\"type\":\"address\",\"name\":\"_from\"},{\"type\":\"address\",\"name\":\"_to\"},{\"type\":\"uint256\",\"name\":\"_value\"}],\"stateMutability\":\"nonpayable\",\"type\":\"function\",\"gas\":111433},\n",
    "    {\"name\":\"approve\",\"outputs\":[{\"type\":\"bool\",\"name\":\"\"}],\"inputs\":[{\"type\":\"address\",\"name\":\"_spender\"},{\"type\":\"uint256\",\"name\":\"_value\"}],\"stateMutability\":\"nonpayable\",\"type\":\"function\",\"gas\":39288},\n",
    "    {\"name\":\"mint\",\"outputs\":[{\"type\":\"bool\",\"name\":\"\"}],\"inputs\":[{\"type\":\"address\",\"name\":\"_to\"},{\"type\":\"uint256\",\"name\":\"_value\"}],\"stateMutability\":\"nonpayable\",\"type\":\"function\",\"gas\":228030},\n",
    "    {\"name\":\"burn\",\"outputs\":[{\"type\":\"bool\",\"name\":\"\"}],\"inputs\":[{\"type\":\"uint256\",\"name\":\"_value\"}],\"stateMutability\":\"nonpayable\",\"type\":\"function\",\"gas\":74999},\n",
    "    {\"name\":\"set_name\",\"outputs\":[],\"inputs\":[{\"type\":\"string\",\"name\":\"_name\"},{\"type\":\"string\",\"name\":\"_symbol\"}],\"stateMutability\":\"nonpayable\",\"type\":\"function\",\"gas\":178270},\n",
    "    {\"name\":\"name\",\"outputs\":[{\"type\":\"string\",\"name\":\"\"}],\"inputs\":[],\"stateMutability\":\"view\",\"type\":\"function\",\"gas\":8063},\n",
    "    {\"name\":\"symbol\",\"outputs\":[{\"type\":\"string\",\"name\":\"\"}],\"inputs\":[],\"stateMutability\":\"view\",\"type\":\"function\",\"gas\":7116},\n",
    "    {\"name\":\"decimals\",\"outputs\":[{\"type\":\"uint256\",\"name\":\"\"}],\"inputs\":[],\"stateMutability\":\"view\",\"type\":\"function\",\"gas\":1721},\n",
    "    {\"name\":\"balanceOf\",\"outputs\":[{\"type\":\"uint256\",\"name\":\"\"}],\"inputs\":[{\"type\":\"address\",\"name\":\"arg0\"}],\"stateMutability\":\"view\",\"type\":\"function\",\"gas\":1905},\n",
    "    {\"name\":\"minter\",\"outputs\":[{\"type\":\"address\",\"name\":\"\"}],\"inputs\":[],\"stateMutability\":\"view\",\"type\":\"function\",\"gas\":1781},\n",
    "    {\"name\":\"admin\",\"outputs\":[{\"type\":\"address\",\"name\":\"\"}],\"inputs\":[],\"stateMutability\":\"view\",\"type\":\"function\",\"gas\":1811},\n",
    "    {\"name\":\"mining_epoch\",\"outputs\":[{\"type\":\"int128\",\"name\":\"\"}],\"inputs\":[],\"stateMutability\":\"view\",\"type\":\"function\",\"gas\":1841},\n",
    "    {\"name\":\"start_epoch_time\",\"outputs\":[{\"type\":\"uint256\",\"name\":\"\"}],\"inputs\":[],\"stateMutability\":\"view\",\"type\":\"function\",\"gas\":1871},\n",
    "    {\"name\":\"rate\",\"outputs\":[{\"type\":\"uint256\",\"name\":\"\"}],\"inputs\":[],\"stateMutability\":\"view\",\"type\":\"function\",\"gas\":1901}\n",
    "]\n",
    "\n",
    "\n",
    "contract = web3.eth.contract(address=contract_address, abi=contract_abi)\n",
    "\n",
    "\n",
    "symbol = contract.functions.symbol().call()\n",
    "decimals = contract.functions.decimals().call()\n",
    "name = contract.functions.name().call()\n",
    "supply = contract.functions.totalSupply().call()\n",
    "balance_of_address = contract.functions.balanceOf(address_int).call()\n",
    "\n",
    "supply = format(supply / 10**18, \",.9f\")\n",
    "\n",
    "print(\"Symbol:\", symbol)\n",
    "print(\"Decimal:\", decimals)\n",
    "print(\"Name:\", name)\n",
    "print(\"Token Total Supply:\", supply)\n",
    "print(\"Balance:\", balance_of_address)"
   ]
  },
  {
   "cell_type": "code",
   "execution_count": null,
   "metadata": {},
   "outputs": [],
   "source": []
  },
  {
   "cell_type": "code",
   "execution_count": null,
   "metadata": {},
   "outputs": [],
   "source": []
  },
  {
   "cell_type": "code",
   "execution_count": null,
   "metadata": {},
   "outputs": [],
   "source": []
  },
  {
   "cell_type": "code",
   "execution_count": null,
   "metadata": {},
   "outputs": [],
   "source": []
  },
  {
   "cell_type": "code",
   "execution_count": null,
   "metadata": {},
   "outputs": [],
   "source": []
  },
  {
   "cell_type": "code",
   "execution_count": null,
   "metadata": {},
   "outputs": [],
   "source": []
  },
  {
   "cell_type": "code",
   "execution_count": null,
   "metadata": {},
   "outputs": [],
   "source": []
  },
  {
   "cell_type": "code",
   "execution_count": null,
   "metadata": {},
   "outputs": [],
   "source": []
  },
  {
   "cell_type": "code",
   "execution_count": null,
   "metadata": {},
   "outputs": [],
   "source": []
  },
  {
   "cell_type": "code",
   "execution_count": null,
   "metadata": {},
   "outputs": [],
   "source": []
  },
  {
   "cell_type": "code",
   "execution_count": null,
   "metadata": {},
   "outputs": [],
   "source": []
  },
  {
   "cell_type": "code",
   "execution_count": null,
   "metadata": {},
   "outputs": [],
   "source": []
  },
  {
   "cell_type": "code",
   "execution_count": null,
   "metadata": {},
   "outputs": [],
   "source": []
  },
  {
   "cell_type": "code",
   "execution_count": null,
   "metadata": {},
   "outputs": [],
   "source": []
  },
  {
   "cell_type": "code",
   "execution_count": null,
   "metadata": {},
   "outputs": [],
   "source": []
  },
  {
   "cell_type": "code",
   "execution_count": null,
   "metadata": {},
   "outputs": [],
   "source": []
  },
  {
   "cell_type": "code",
   "execution_count": null,
   "metadata": {},
   "outputs": [],
   "source": []
  },
  {
   "cell_type": "code",
   "execution_count": null,
   "metadata": {},
   "outputs": [],
   "source": []
  },
  {
   "cell_type": "code",
   "execution_count": null,
   "metadata": {},
   "outputs": [],
   "source": []
  },
  {
   "cell_type": "code",
   "execution_count": null,
   "metadata": {},
   "outputs": [],
   "source": []
  },
  {
   "cell_type": "code",
   "execution_count": null,
   "metadata": {},
   "outputs": [],
   "source": []
  },
  {
   "cell_type": "code",
   "execution_count": null,
   "metadata": {},
   "outputs": [],
   "source": []
  },
  {
   "cell_type": "code",
   "execution_count": null,
   "metadata": {},
   "outputs": [],
   "source": []
  },
  {
   "cell_type": "code",
   "execution_count": null,
   "metadata": {},
   "outputs": [],
   "source": []
  },
  {
   "cell_type": "code",
   "execution_count": null,
   "metadata": {},
   "outputs": [],
   "source": []
  },
  {
   "cell_type": "code",
   "execution_count": null,
   "metadata": {},
   "outputs": [],
   "source": []
  },
  {
   "cell_type": "code",
   "execution_count": null,
   "metadata": {},
   "outputs": [],
   "source": []
  },
  {
   "cell_type": "code",
   "execution_count": null,
   "metadata": {},
   "outputs": [],
   "source": []
  },
  {
   "cell_type": "code",
   "execution_count": null,
   "metadata": {},
   "outputs": [],
   "source": []
  },
  {
   "cell_type": "code",
   "execution_count": null,
   "metadata": {},
   "outputs": [],
   "source": []
  },
  {
   "cell_type": "code",
   "execution_count": null,
   "metadata": {},
   "outputs": [],
   "source": []
  },
  {
   "cell_type": "code",
   "execution_count": null,
   "metadata": {},
   "outputs": [],
   "source": []
  },
  {
   "cell_type": "code",
   "execution_count": null,
   "metadata": {},
   "outputs": [],
   "source": []
  },
  {
   "cell_type": "code",
   "execution_count": null,
   "metadata": {},
   "outputs": [],
   "source": []
  },
  {
   "cell_type": "code",
   "execution_count": null,
   "metadata": {},
   "outputs": [],
   "source": []
  },
  {
   "cell_type": "code",
   "execution_count": null,
   "metadata": {},
   "outputs": [],
   "source": []
  }
 ],
 "metadata": {
  "kernelspec": {
   "display_name": "Python 3.9.12 ('base')",
   "language": "python",
   "name": "python3"
  },
  "language_info": {
   "codemirror_mode": {
    "name": "ipython",
    "version": 3
   },
   "file_extension": ".py",
   "mimetype": "text/x-python",
   "name": "python",
   "nbconvert_exporter": "python",
   "pygments_lexer": "ipython3",
   "version": "3.9.12"
  },
  "orig_nbformat": 4,
  "vscode": {
   "interpreter": {
    "hash": "40d3a090f54c6569ab1632332b64b2c03c39dcf918b08424e98f38b5ae0af88f"
   }
  }
 },
 "nbformat": 4,
 "nbformat_minor": 2
}
