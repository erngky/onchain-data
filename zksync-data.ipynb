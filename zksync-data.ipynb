{
 "cells": [
  {
   "cell_type": "code",
   "execution_count": 4,
   "metadata": {},
   "outputs": [
    {
     "name": "stdout",
     "output_type": "stream",
     "text": [
      "ETH AMOUNT: 9270687.029867\n",
      "USDT AMOUNT: 4845.620508260932\n",
      "WETH/USDC Price: 1913.2094669943936\n"
     ]
    }
   ],
   "source": [
    "from web3 import Web3\n",
    "import json\n",
    "\n",
    "w3 = Web3(Web3.HTTPProvider('https://mainnet.era.zksync.io'))\n",
    "pair_contract_adress = \"0xDFAaB828f5F515E104BaaBa4d8D554DA9096f0e4\" \n",
    "\n",
    "\n",
    "with open('/Users/halil/Documents/onchain-data/abis/muteio.json', 'r') as file:\n",
    "    data = json.load(file)\n",
    "\n",
    "def get_price():\n",
    "    contract = w3.eth.contract(address=pair_contract_adress, abi=data)\n",
    "    reserves = contract.functions.getReserves().call()\n",
    "    resUSD = reserves[0]/ 1e6\n",
    "    resETH = reserves[1]/ 1e18\n",
    "    price = resUSD / resETH\n",
    "    print(\"ETH AMOUNT:\", resUSD)\n",
    "    print(\"USDT AMOUNT:\", resETH)\n",
    "    print(\"WETH/USDC Price:\", price)\n",
    "\n",
    "get_price()\n"
   ]
  },
  {
   "cell_type": "code",
   "execution_count": null,
   "metadata": {},
   "outputs": [],
   "source": []
  },
  {
   "cell_type": "code",
   "execution_count": null,
   "metadata": {},
   "outputs": [],
   "source": []
  },
  {
   "cell_type": "code",
   "execution_count": null,
   "metadata": {},
   "outputs": [],
   "source": []
  },
  {
   "cell_type": "code",
   "execution_count": null,
   "metadata": {},
   "outputs": [],
   "source": []
  }
 ],
 "metadata": {
  "kernelspec": {
   "display_name": "Python 3.10.9 64-bit",
   "language": "python",
   "name": "python3"
  },
  "language_info": {
   "codemirror_mode": {
    "name": "ipython",
    "version": 3
   },
   "file_extension": ".py",
   "mimetype": "text/x-python",
   "name": "python",
   "nbconvert_exporter": "python",
   "pygments_lexer": "ipython3",
   "version": "3.10.9"
  },
  "orig_nbformat": 4,
  "vscode": {
   "interpreter": {
    "hash": "b0fa6594d8f4cbf19f97940f81e996739fb7646882a419484c72d19e05852a7e"
   }
  }
 },
 "nbformat": 4,
 "nbformat_minor": 2
}
