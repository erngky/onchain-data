{
 "cells": [
  {
   "cell_type": "code",
   "execution_count": 31,
   "metadata": {},
   "outputs": [
    {
     "name": "stdout",
     "output_type": "stream",
     "text": [
      "ETH AMOUNT: 9239661.605451\n",
      "USDT AMOUNT: 4864.477141171605\n",
      "ETH/USDC Price: 1899.415155484858\n",
      "1899.415155484858\n",
      "-------------------\n",
      "ETH AMOUNT: 26420412.249482\n",
      "USDT AMOUNT: 13903.677776029133\n",
      "ETH/USDC Price: 1900.2462999417714\n",
      "1900.2462999417714\n",
      "-------------------\n",
      "ETH AMOUNT: 9239661.605451\n",
      "USDT AMOUNT: 4864.477141171605\n",
      "ETH/USDC Price: 1899.415155484858\n",
      "ETH AMOUNT: 26420398.462124\n",
      "USDT AMOUNT: 13903.685053429133\n",
      "ETH/USDC Price: 1900.244313690622\n",
      "The price of ETH difference between muteio and syncswap is: -0.829158205764088\n"
     ]
    }
   ],
   "source": [
    "from web3 import Web3\n",
    "import json\n",
    "\n",
    "w3 = Web3(Web3.HTTPProvider('https://mainnet.era.zksync.io'))\n",
    "pair_contract_adress_muteio = \"0xDFAaB828f5F515E104BaaBa4d8D554DA9096f0e4\" \n",
    "pair_contract_adress_syncswap = \"0x80115c708E12eDd42E504c1cD52Aea96C547c05c\"\n",
    "\n",
    "path = '../muteioPoolABI.json'\n",
    "path2 = '../abis/syncswapPoolABI.json'\n",
    "\n",
    "\n",
    "with open(path, 'r') as file:\n",
    "    data = json.load(file)\n",
    "\n",
    "with open(path2, 'r') as file:\n",
    "    data2 = json.load(file)\n",
    "\n",
    "\n",
    "\n",
    "def get_price_muteio():\n",
    "    contract = w3.eth.contract(address=pair_contract_adress_muteio, abi=data)\n",
    "    reserves = contract.functions.getReserves().call()\n",
    "    resUSD = reserves[0]/ 1e6\n",
    "    resETH = reserves[1]/ 1e18\n",
    "    price_muteio = resUSD / resETH\n",
    "    print(\"ETH AMOUNT:\", resUSD)\n",
    "    print(\"USDT AMOUNT:\", resETH)\n",
    "    print(\"ETH/USDC Price:\", price_muteio)\n",
    "    return price_muteio\n",
    "\n",
    "     \n",
    "def get_price_syncswap():\n",
    "    contract = w3.eth.contract(address=pair_contract_adress_syncswap, abi=data2)\n",
    "    reserves = contract.functions.getReserves().call()\n",
    "    resUSD = reserves[0]/ 1e6\n",
    "    resETH = reserves[1]/ 1e18\n",
    "    price_syncswap = resUSD / resETH\n",
    "    print(\"ETH AMOUNT:\", resUSD)\n",
    "    print(\"USDT AMOUNT:\", resETH)\n",
    "    print(\"ETH/USDC Price:\", price_syncswap)\n",
    "    return price_syncswap\n",
    "\n",
    "def arb_calc(x,y):\n",
    "    difference = x - y\n",
    "    print(\"The price of ETH difference between muteio and syncswap is:\", difference)\n",
    "\n",
    "\n",
    "\n",
    "print(get_price_muteio())\n",
    "\n",
    "print(\"-------------------\")\n",
    "\n",
    "print(get_price_syncswap())\n",
    "\n",
    "print(\"-------------------\")\n",
    "\n",
    "x = get_price_muteio()\n",
    "y = get_price_syncswap()\n",
    "\n",
    "arb_calc(x,y)\n",
    "\n"
   ]
  },
  {
   "cell_type": "code",
   "execution_count": null,
   "metadata": {},
   "outputs": [],
   "source": []
  },
  {
   "cell_type": "code",
   "execution_count": null,
   "metadata": {},
   "outputs": [],
   "source": []
  },
  {
   "cell_type": "code",
   "execution_count": null,
   "metadata": {},
   "outputs": [],
   "source": []
  },
  {
   "cell_type": "code",
   "execution_count": null,
   "metadata": {},
   "outputs": [],
   "source": []
  },
  {
   "cell_type": "code",
   "execution_count": null,
   "metadata": {},
   "outputs": [],
   "source": []
  },
  {
   "cell_type": "code",
   "execution_count": null,
   "metadata": {},
   "outputs": [],
   "source": []
  },
  {
   "cell_type": "code",
   "execution_count": null,
   "metadata": {},
   "outputs": [],
   "source": []
  },
  {
   "cell_type": "code",
   "execution_count": null,
   "metadata": {},
   "outputs": [],
   "source": []
  },
  {
   "cell_type": "code",
   "execution_count": null,
   "metadata": {},
   "outputs": [],
   "source": []
  },
  {
   "cell_type": "code",
   "execution_count": null,
   "metadata": {},
   "outputs": [],
   "source": []
  },
  {
   "cell_type": "code",
   "execution_count": null,
   "metadata": {},
   "outputs": [],
   "source": []
  },
  {
   "cell_type": "code",
   "execution_count": null,
   "metadata": {},
   "outputs": [],
   "source": []
  },
  {
   "cell_type": "code",
   "execution_count": null,
   "metadata": {},
   "outputs": [],
   "source": []
  },
  {
   "cell_type": "code",
   "execution_count": null,
   "metadata": {},
   "outputs": [],
   "source": []
  },
  {
   "cell_type": "code",
   "execution_count": null,
   "metadata": {},
   "outputs": [],
   "source": []
  },
  {
   "cell_type": "code",
   "execution_count": null,
   "metadata": {},
   "outputs": [],
   "source": []
  },
  {
   "cell_type": "code",
   "execution_count": null,
   "metadata": {},
   "outputs": [],
   "source": []
  },
  {
   "cell_type": "code",
   "execution_count": null,
   "metadata": {},
   "outputs": [],
   "source": []
  },
  {
   "cell_type": "code",
   "execution_count": null,
   "metadata": {},
   "outputs": [],
   "source": []
  },
  {
   "cell_type": "code",
   "execution_count": null,
   "metadata": {},
   "outputs": [],
   "source": []
  },
  {
   "cell_type": "code",
   "execution_count": null,
   "metadata": {},
   "outputs": [],
   "source": []
  },
  {
   "cell_type": "code",
   "execution_count": null,
   "metadata": {},
   "outputs": [],
   "source": []
  },
  {
   "cell_type": "code",
   "execution_count": null,
   "metadata": {},
   "outputs": [],
   "source": []
  },
  {
   "cell_type": "code",
   "execution_count": null,
   "metadata": {},
   "outputs": [],
   "source": []
  },
  {
   "cell_type": "code",
   "execution_count": null,
   "metadata": {},
   "outputs": [],
   "source": []
  },
  {
   "cell_type": "code",
   "execution_count": null,
   "metadata": {},
   "outputs": [],
   "source": []
  },
  {
   "cell_type": "code",
   "execution_count": null,
   "metadata": {},
   "outputs": [],
   "source": []
  },
  {
   "cell_type": "code",
   "execution_count": null,
   "metadata": {},
   "outputs": [],
   "source": []
  },
  {
   "cell_type": "code",
   "execution_count": null,
   "metadata": {},
   "outputs": [],
   "source": []
  },
  {
   "cell_type": "code",
   "execution_count": null,
   "metadata": {},
   "outputs": [],
   "source": []
  },
  {
   "cell_type": "code",
   "execution_count": null,
   "metadata": {},
   "outputs": [],
   "source": []
  },
  {
   "cell_type": "code",
   "execution_count": null,
   "metadata": {},
   "outputs": [],
   "source": []
  },
  {
   "cell_type": "code",
   "execution_count": null,
   "metadata": {},
   "outputs": [],
   "source": []
  },
  {
   "cell_type": "code",
   "execution_count": null,
   "metadata": {},
   "outputs": [],
   "source": []
  },
  {
   "cell_type": "code",
   "execution_count": null,
   "metadata": {},
   "outputs": [],
   "source": []
  }
 ],
 "metadata": {
  "kernelspec": {
   "display_name": "Python 3.10.9 64-bit",
   "language": "python",
   "name": "python3"
  },
  "language_info": {
   "codemirror_mode": {
    "name": "ipython",
    "version": 3
   },
   "file_extension": ".py",
   "mimetype": "text/x-python",
   "name": "python",
   "nbconvert_exporter": "python",
   "pygments_lexer": "ipython3",
   "version": "3.10.9"
  },
  "orig_nbformat": 4,
  "vscode": {
   "interpreter": {
    "hash": "b0fa6594d8f4cbf19f97940f81e996739fb7646882a419484c72d19e05852a7e"
   }
  }
 },
 "nbformat": 4,
 "nbformat_minor": 2
}
